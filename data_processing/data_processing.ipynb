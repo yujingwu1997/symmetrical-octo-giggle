{
 "cells": [
  {
   "cell_type": "code",
   "execution_count": 44,
   "metadata": {},
   "outputs": [],
   "source": [
    "import pandas as pd\n",
    "import json"
   ]
  },
  {
   "cell_type": "code",
   "execution_count": 85,
   "metadata": {},
   "outputs": [],
   "source": [
    "# convert nested json file into pandas dataframe\n",
    "input_json = \"mo_charity_data.json\"\n",
    "with open(input_json, \"r\") as f:\n",
    "    data = json.load(f)\n",
    "df = pd.json_normalize(data)\n"
   ]
  },
  {
   "cell_type": "code",
   "execution_count": 86,
   "metadata": {},
   "outputs": [],
   "source": [
    "# trim table to subset of columns\n",
    "columns = [\n",
    "    \"charityName\", \"mission\", \"websiteURL\", \"currentRating.score\", \"currentRating.rating\", \"currentRating.financialRating.score\", \n",
    "    \"currentRating.financialRating.rating\",\"currentRating.accountabilityRating.score\", \"currentRating.accountabilityRating.rating\", \n",
    "    \"category.categoryName\", \"cause.causeName\", \"irsClassification.deductibility\", \"irsClassification.subsection\", \n",
    "    \"mailingAddress.streetAddress1\", \"mailingAddress.streetAddress2\", \"mailingAddress.city\", \"mailingAddress.stateOrProvince\", \n",
    "    \"mailingAddress.postalCode\"\n",
    "    ]\n",
    "\n",
    "df = df[columns]"
   ]
  },
  {
   "cell_type": "code",
   "execution_count": null,
   "metadata": {},
   "outputs": [],
   "source": [
    "# rename all columns\n",
    "newColumns = [\n",
    "    \"charityName\", \"mission\", \"websiteURL\", \"currentRatingScore\", \"currentRating\", \"financialRatingScore\", \"financialRating\",\n",
    "    \"accountabilityRatingscore\", \"accountabilityRating\", \"categoryName\", \"causeName\", \"deductibility\", \"subsection\", \"address1\", \n",
    "    \"address2\", \"city\", \"state\", \"zip\"\n",
    "    ]\n",
    "\n",
    "df.set_axis(newColumns, axis=1, inplace=True)"
   ]
  },
  {
   "cell_type": "code",
   "execution_count": 89,
   "metadata": {},
   "outputs": [],
   "source": [
    "# output to csv\n",
    "df.to_csv(\"mo_charity_data.csv\")"
   ]
  },
  {
   "cell_type": "code",
   "execution_count": null,
   "metadata": {},
   "outputs": [],
   "source": []
  }
 ],
 "metadata": {
  "interpreter": {
   "hash": "2ffc68a898cdf6ae2d053613cdf1702dd2070bde6aa15cd9ac7af3dacdaf0735"
  },
  "kernelspec": {
   "display_name": "Python 3.7.11 64-bit ('arcgispro-py3': conda)",
   "language": "python",
   "name": "python3"
  },
  "language_info": {
   "codemirror_mode": {
    "name": "ipython",
    "version": 3
   },
   "file_extension": ".py",
   "mimetype": "text/x-python",
   "name": "python",
   "nbconvert_exporter": "python",
   "pygments_lexer": "ipython3",
   "version": "3.7.11"
  },
  "orig_nbformat": 4
 },
 "nbformat": 4,
 "nbformat_minor": 2
}
